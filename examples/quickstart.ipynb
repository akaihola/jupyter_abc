{
 "cells": [
  {
   "cell_type": "code",
   "execution_count": 1,
   "metadata": {},
   "outputs": [
    {
     "data": {
      "text/html": [
       "<script type=\"text/javascript\">    require.config(\n",
       "        {paths: {abcjs: require.toUrl(\"nbextensions/jupyter-abc/abcjs_basic_5.1.2-min.js\")},\n",
       "         shim: {abcjs: {exports: 'ABCJS'}}}\n",
       "    );</script>"
      ],
      "text/plain": [
       "<IPython.core.display.HTML object>"
      ]
     },
     "metadata": {},
     "output_type": "display_data"
    }
   ],
   "source": [
    "%load_ext jupyter_abc"
   ]
  },
  {
   "cell_type": "code",
   "execution_count": 2,
   "metadata": {},
   "outputs": [
    {
     "data": {
      "application/javascript": [
       "require([\"abcjs\"], function(ABCJS) {    element.prepend(\"<div class='abc'></div>\");    var output = element.find(\".abc\").get(0);    console.log(element, output, ABCJS, \"%%score (R1 R2) (L)\\nV:R1\\n[cc']2 z ((3g/a/b/ [cc']2) z ((3g/a/b/ | [cc']2) z2 z2 z c | (c3 B d3 c) | (g4 f2) z2 |\\nV:R2\\nx8 | x8 | G8- | G6 z2 |\\nV:L clef=bass middle=d\\n[cc']2 z ((3g/a/b/ [cc']2) z ((3g/a/b/ | [cc']2) z2 z4 | ([d'f']4 [c'e']4) | [bd']6 z2 |\");    ABCJS.renderAbc(output, \"%%score (R1 R2) (L)\\nV:R1\\n[cc']2 z ((3g/a/b/ [cc']2) z ((3g/a/b/ | [cc']2) z2 z2 z c | (c3 B d3 c) | (g4 f2) z2 |\\nV:R2\\nx8 | x8 | G8- | G6 z2 |\\nV:L clef=bass middle=d\\n[cc']2 z ((3g/a/b/ [cc']2) z ((3g/a/b/ | [cc']2) z2 z4 | ([d'f']4 [c'e']4) | [bd']6 z2 |\");});"
      ],
      "text/plain": [
       "<IPython.core.display.Javascript object>"
      ]
     },
     "execution_count": 2,
     "metadata": {},
     "output_type": "execute_result"
    }
   ],
   "source": [
    "%%abc\n",
    "%%score (R1 R2) (L)\n",
    "V:R1\n",
    "[cc']2 z ((3g/a/b/ [cc']2) z ((3g/a/b/ | [cc']2) z2 z2 z c | (c3 B d3 c) | (g4 f2) z2 |\n",
    "V:R2\n",
    "x8 | x8 | G8- | G6 z2 |\n",
    "V:L clef=bass middle=d\n",
    "[cc']2 z ((3g/a/b/ [cc']2) z ((3g/a/b/ | [cc']2) z2 z4 | ([d'f']4 [c'e']4) | [bd']6 z2 |"
   ]
  }
 ],
 "metadata": {
  "kernelspec": {
   "display_name": "Python 3",
   "language": "python",
   "name": "python3"
  },
  "language_info": {
   "codemirror_mode": {
    "name": "ipython",
    "version": 3
   },
   "file_extension": ".py",
   "mimetype": "text/x-python",
   "name": "python",
   "nbconvert_exporter": "python",
   "pygments_lexer": "ipython3",
   "version": "3.7.0b4"
  }
 },
 "nbformat": 4,
 "nbformat_minor": 2
}
